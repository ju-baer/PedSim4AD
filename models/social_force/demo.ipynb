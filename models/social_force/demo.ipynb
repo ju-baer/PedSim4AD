{
 "cells": [
  {
   "cell_type": "markdown",
   "source": [
    "# Social Force Model Demo\n",
    "Simulates pedestrian movement in an evacuation scenario."
   ]
  },
  {
   "cell_type": "code",
   "execution_count": null,
   "source": [
    "import numpy as np\n",
    "from social_force import SocialForceModel\n",
    "from models.common.visualization import plot_trajectories\n",
    "\n",
    "# Initialize model\n",
    "model = SocialForceModel(n_pedestrians=10)\n",
    "model.destinations = np.array([[10, 5] for _ in range(10)])  # Exit at (10, 5)\n",
    "trajectories = {i: [model.positions[i].copy()] for i in range(model.n_pedestrians)}\n",
    "\n",
    "# Run simulation\n",
    "for _ in range(100):\n",
    "    model.step()\n",
    "    for i in range(model.n_pedestrians):\n",
    "        trajectories[i].append(model.positions[i].copy())\n",
    "\n",
    "# Visualize\n",
    "plot_trajectories(trajectories, title=\"Social Force Evacuation\")"
   ],
   "outputs": []
  }
 ],
 "metadata": {
  "kernelspec": {
   "display_name": "Python 3",
   "language": "python",
   "name": "python3"
  }
 }
}
